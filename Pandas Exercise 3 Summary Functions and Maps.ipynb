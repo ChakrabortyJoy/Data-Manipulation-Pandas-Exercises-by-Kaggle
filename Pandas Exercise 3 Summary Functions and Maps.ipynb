{
 "cells": [
  {
   "cell_type": "markdown",
   "id": "164254ba",
   "metadata": {
    "papermill": {
     "duration": 0.017138,
     "end_time": "2022-01-29T15:53:06.941825",
     "exception": false,
     "start_time": "2022-01-29T15:53:06.924687",
     "status": "completed"
    },
    "tags": []
   },
   "source": [
    "**This notebook is an exercise in the [Pandas](https://www.kaggle.com/learn/pandas) course.  You can reference the tutorial at [this link](https://www.kaggle.com/residentmario/summary-functions-and-maps).**\n",
    "\n",
    "---\n"
   ]
  },
  {
   "cell_type": "markdown",
   "id": "7351d253",
   "metadata": {
    "papermill": {
     "duration": 0.015198,
     "end_time": "2022-01-29T15:53:06.974179",
     "exception": false,
     "start_time": "2022-01-29T15:53:06.958981",
     "status": "completed"
    },
    "tags": []
   },
   "source": [
    "# Introduction\n",
    "\n",
    "Now you are ready to get a deeper understanding of your data.\n",
    "\n",
    "Run the following cell to load your data and some utility functions (including code to check your answers)."
   ]
  },
  {
   "cell_type": "code",
   "execution_count": 1,
   "id": "3b9da2fe",
   "metadata": {
    "execution": {
     "iopub.execute_input": "2022-01-29T15:53:07.010292Z",
     "iopub.status.busy": "2022-01-29T15:53:07.008814Z",
     "iopub.status.idle": "2022-01-29T15:53:13.879630Z",
     "shell.execute_reply": "2022-01-29T15:53:13.880302Z",
     "shell.execute_reply.started": "2022-01-29T15:24:29.406637Z"
    },
    "papermill": {
     "duration": 6.891128,
     "end_time": "2022-01-29T15:53:13.880603",
     "exception": false,
     "start_time": "2022-01-29T15:53:06.989475",
     "status": "completed"
    },
    "tags": []
   },
   "outputs": [
    {
     "name": "stdout",
     "output_type": "stream",
     "text": [
      "Setup complete.\n"
     ]
    },
    {
     "data": {
      "text/html": [
       "<div>\n",
       "<style scoped>\n",
       "    .dataframe tbody tr th:only-of-type {\n",
       "        vertical-align: middle;\n",
       "    }\n",
       "\n",
       "    .dataframe tbody tr th {\n",
       "        vertical-align: top;\n",
       "    }\n",
       "\n",
       "    .dataframe thead th {\n",
       "        text-align: right;\n",
       "    }\n",
       "</style>\n",
       "<table border=\"1\" class=\"dataframe\">\n",
       "  <thead>\n",
       "    <tr style=\"text-align: right;\">\n",
       "      <th></th>\n",
       "      <th>country</th>\n",
       "      <th>description</th>\n",
       "      <th>designation</th>\n",
       "      <th>points</th>\n",
       "      <th>price</th>\n",
       "      <th>province</th>\n",
       "      <th>region_1</th>\n",
       "      <th>region_2</th>\n",
       "      <th>taster_name</th>\n",
       "      <th>taster_twitter_handle</th>\n",
       "      <th>title</th>\n",
       "      <th>variety</th>\n",
       "      <th>winery</th>\n",
       "    </tr>\n",
       "  </thead>\n",
       "  <tbody>\n",
       "    <tr>\n",
       "      <th>0</th>\n",
       "      <td>Italy</td>\n",
       "      <td>Aromas include tropical fruit, broom, brimston...</td>\n",
       "      <td>Vulkà Bianco</td>\n",
       "      <td>87</td>\n",
       "      <td>NaN</td>\n",
       "      <td>Sicily &amp; Sardinia</td>\n",
       "      <td>Etna</td>\n",
       "      <td>NaN</td>\n",
       "      <td>Kerin O’Keefe</td>\n",
       "      <td>@kerinokeefe</td>\n",
       "      <td>Nicosia 2013 Vulkà Bianco  (Etna)</td>\n",
       "      <td>White Blend</td>\n",
       "      <td>Nicosia</td>\n",
       "    </tr>\n",
       "    <tr>\n",
       "      <th>1</th>\n",
       "      <td>Portugal</td>\n",
       "      <td>This is ripe and fruity, a wine that is smooth...</td>\n",
       "      <td>Avidagos</td>\n",
       "      <td>87</td>\n",
       "      <td>15.0</td>\n",
       "      <td>Douro</td>\n",
       "      <td>NaN</td>\n",
       "      <td>NaN</td>\n",
       "      <td>Roger Voss</td>\n",
       "      <td>@vossroger</td>\n",
       "      <td>Quinta dos Avidagos 2011 Avidagos Red (Douro)</td>\n",
       "      <td>Portuguese Red</td>\n",
       "      <td>Quinta dos Avidagos</td>\n",
       "    </tr>\n",
       "    <tr>\n",
       "      <th>2</th>\n",
       "      <td>US</td>\n",
       "      <td>Tart and snappy, the flavors of lime flesh and...</td>\n",
       "      <td>NaN</td>\n",
       "      <td>87</td>\n",
       "      <td>14.0</td>\n",
       "      <td>Oregon</td>\n",
       "      <td>Willamette Valley</td>\n",
       "      <td>Willamette Valley</td>\n",
       "      <td>Paul Gregutt</td>\n",
       "      <td>@paulgwine</td>\n",
       "      <td>Rainstorm 2013 Pinot Gris (Willamette Valley)</td>\n",
       "      <td>Pinot Gris</td>\n",
       "      <td>Rainstorm</td>\n",
       "    </tr>\n",
       "    <tr>\n",
       "      <th>3</th>\n",
       "      <td>US</td>\n",
       "      <td>Pineapple rind, lemon pith and orange blossom ...</td>\n",
       "      <td>Reserve Late Harvest</td>\n",
       "      <td>87</td>\n",
       "      <td>13.0</td>\n",
       "      <td>Michigan</td>\n",
       "      <td>Lake Michigan Shore</td>\n",
       "      <td>NaN</td>\n",
       "      <td>Alexander Peartree</td>\n",
       "      <td>NaN</td>\n",
       "      <td>St. Julian 2013 Reserve Late Harvest Riesling ...</td>\n",
       "      <td>Riesling</td>\n",
       "      <td>St. Julian</td>\n",
       "    </tr>\n",
       "    <tr>\n",
       "      <th>4</th>\n",
       "      <td>US</td>\n",
       "      <td>Much like the regular bottling from 2012, this...</td>\n",
       "      <td>Vintner's Reserve Wild Child Block</td>\n",
       "      <td>87</td>\n",
       "      <td>65.0</td>\n",
       "      <td>Oregon</td>\n",
       "      <td>Willamette Valley</td>\n",
       "      <td>Willamette Valley</td>\n",
       "      <td>Paul Gregutt</td>\n",
       "      <td>@paulgwine</td>\n",
       "      <td>Sweet Cheeks 2012 Vintner's Reserve Wild Child...</td>\n",
       "      <td>Pinot Noir</td>\n",
       "      <td>Sweet Cheeks</td>\n",
       "    </tr>\n",
       "  </tbody>\n",
       "</table>\n",
       "</div>"
      ],
      "text/plain": [
       "    country                                        description  \\\n",
       "0     Italy  Aromas include tropical fruit, broom, brimston...   \n",
       "1  Portugal  This is ripe and fruity, a wine that is smooth...   \n",
       "2        US  Tart and snappy, the flavors of lime flesh and...   \n",
       "3        US  Pineapple rind, lemon pith and orange blossom ...   \n",
       "4        US  Much like the regular bottling from 2012, this...   \n",
       "\n",
       "                          designation  points  price           province  \\\n",
       "0                        Vulkà Bianco      87    NaN  Sicily & Sardinia   \n",
       "1                            Avidagos      87   15.0              Douro   \n",
       "2                                 NaN      87   14.0             Oregon   \n",
       "3                Reserve Late Harvest      87   13.0           Michigan   \n",
       "4  Vintner's Reserve Wild Child Block      87   65.0             Oregon   \n",
       "\n",
       "              region_1           region_2         taster_name  \\\n",
       "0                 Etna                NaN       Kerin O’Keefe   \n",
       "1                  NaN                NaN          Roger Voss   \n",
       "2    Willamette Valley  Willamette Valley        Paul Gregutt   \n",
       "3  Lake Michigan Shore                NaN  Alexander Peartree   \n",
       "4    Willamette Valley  Willamette Valley        Paul Gregutt   \n",
       "\n",
       "  taster_twitter_handle                                              title  \\\n",
       "0          @kerinokeefe                  Nicosia 2013 Vulkà Bianco  (Etna)   \n",
       "1            @vossroger      Quinta dos Avidagos 2011 Avidagos Red (Douro)   \n",
       "2           @paulgwine       Rainstorm 2013 Pinot Gris (Willamette Valley)   \n",
       "3                   NaN  St. Julian 2013 Reserve Late Harvest Riesling ...   \n",
       "4           @paulgwine   Sweet Cheeks 2012 Vintner's Reserve Wild Child...   \n",
       "\n",
       "          variety               winery  \n",
       "0     White Blend              Nicosia  \n",
       "1  Portuguese Red  Quinta dos Avidagos  \n",
       "2      Pinot Gris            Rainstorm  \n",
       "3        Riesling           St. Julian  \n",
       "4      Pinot Noir         Sweet Cheeks  "
      ]
     },
     "execution_count": 1,
     "metadata": {},
     "output_type": "execute_result"
    }
   ],
   "source": [
    "import pandas as pd\n",
    "pd.set_option(\"display.max_rows\", 5)\n",
    "reviews = pd.read_csv(\"../input/wine-reviews/winemag-data-130k-v2.csv\", index_col=0)\n",
    "\n",
    "from learntools.core import binder; binder.bind(globals())\n",
    "from learntools.pandas.summary_functions_and_maps import *\n",
    "print(\"Setup complete.\")\n",
    "\n",
    "reviews.head()"
   ]
  },
  {
   "cell_type": "markdown",
   "id": "aa63a059",
   "metadata": {
    "papermill": {
     "duration": 0.016079,
     "end_time": "2022-01-29T15:53:13.913603",
     "exception": false,
     "start_time": "2022-01-29T15:53:13.897524",
     "status": "completed"
    },
    "tags": []
   },
   "source": [
    "# Exercises"
   ]
  },
  {
   "cell_type": "markdown",
   "id": "374e7fea",
   "metadata": {
    "papermill": {
     "duration": 0.016418,
     "end_time": "2022-01-29T15:53:13.946101",
     "exception": false,
     "start_time": "2022-01-29T15:53:13.929683",
     "status": "completed"
    },
    "tags": []
   },
   "source": [
    "## 1.\n",
    "\n",
    "What is the median of the `points` column in the `reviews` DataFrame?"
   ]
  },
  {
   "cell_type": "code",
   "execution_count": 2,
   "id": "3bcf7615",
   "metadata": {
    "execution": {
     "iopub.execute_input": "2022-01-29T15:53:13.984946Z",
     "iopub.status.busy": "2022-01-29T15:53:13.984059Z",
     "iopub.status.idle": "2022-01-29T15:53:13.990828Z",
     "shell.execute_reply": "2022-01-29T15:53:13.991315Z",
     "shell.execute_reply.started": "2022-01-29T15:27:54.062683Z"
    },
    "papermill": {
     "duration": 0.028903,
     "end_time": "2022-01-29T15:53:13.991452",
     "exception": false,
     "start_time": "2022-01-29T15:53:13.962549",
     "status": "completed"
    },
    "tags": []
   },
   "outputs": [
    {
     "data": {
      "application/javascript": [
       "parent.postMessage({\"jupyterEvent\": \"custom.exercise_interaction\", \"data\": {\"outcomeType\": 1, \"valueTowardsCompletion\": 0.14285714285714285, \"interactionType\": 1, \"questionType\": 1, \"questionId\": \"1_MedianPoints\", \"learnToolsVersion\": \"0.3.4\", \"failureMessage\": \"\", \"exceptionClass\": \"\", \"trace\": \"\"}}, \"*\")"
      ],
      "text/plain": [
       "<IPython.core.display.Javascript object>"
      ]
     },
     "metadata": {},
     "output_type": "display_data"
    },
    {
     "data": {
      "text/markdown": [
       "<span style=\"color:#33cc33\">Correct</span>"
      ],
      "text/plain": [
       "Correct"
      ]
     },
     "metadata": {},
     "output_type": "display_data"
    }
   ],
   "source": [
    "median_points = reviews.points.median()\n",
    "\n",
    "# Check your answer\n",
    "q1.check()"
   ]
  },
  {
   "cell_type": "code",
   "execution_count": 3,
   "id": "3768798d",
   "metadata": {
    "execution": {
     "iopub.execute_input": "2022-01-29T15:53:14.030908Z",
     "iopub.status.busy": "2022-01-29T15:53:14.030069Z",
     "iopub.status.idle": "2022-01-29T15:53:14.031842Z",
     "shell.execute_reply": "2022-01-29T15:53:14.032336Z",
     "shell.execute_reply.started": "2022-01-29T15:27:56.844071Z"
    },
    "papermill": {
     "duration": 0.023727,
     "end_time": "2022-01-29T15:53:14.032481",
     "exception": false,
     "start_time": "2022-01-29T15:53:14.008754",
     "status": "completed"
    },
    "tags": []
   },
   "outputs": [],
   "source": [
    "#q1.hint()\n",
    "#q1.solution()"
   ]
  },
  {
   "cell_type": "markdown",
   "id": "4718f84b",
   "metadata": {
    "papermill": {
     "duration": 0.016906,
     "end_time": "2022-01-29T15:53:14.066579",
     "exception": false,
     "start_time": "2022-01-29T15:53:14.049673",
     "status": "completed"
    },
    "tags": []
   },
   "source": [
    "## 2. \n",
    "What countries are represented in the dataset? (Your answer should not include any duplicates.)"
   ]
  },
  {
   "cell_type": "code",
   "execution_count": 4,
   "id": "bd55ba32",
   "metadata": {
    "execution": {
     "iopub.execute_input": "2022-01-29T15:53:14.115919Z",
     "iopub.status.busy": "2022-01-29T15:53:14.115087Z",
     "iopub.status.idle": "2022-01-29T15:53:14.119181Z",
     "shell.execute_reply": "2022-01-29T15:53:14.119668Z",
     "shell.execute_reply.started": "2022-01-29T15:29:49.483931Z"
    },
    "papermill": {
     "duration": 0.036333,
     "end_time": "2022-01-29T15:53:14.119797",
     "exception": false,
     "start_time": "2022-01-29T15:53:14.083464",
     "status": "completed"
    },
    "tags": []
   },
   "outputs": [
    {
     "data": {
      "application/javascript": [
       "parent.postMessage({\"jupyterEvent\": \"custom.exercise_interaction\", \"data\": {\"outcomeType\": 1, \"valueTowardsCompletion\": 0.14285714285714285, \"interactionType\": 1, \"questionType\": 2, \"questionId\": \"2_UniqueCountries\", \"learnToolsVersion\": \"0.3.4\", \"failureMessage\": \"\", \"exceptionClass\": \"\", \"trace\": \"\"}}, \"*\")"
      ],
      "text/plain": [
       "<IPython.core.display.Javascript object>"
      ]
     },
     "metadata": {},
     "output_type": "display_data"
    },
    {
     "data": {
      "text/markdown": [
       "<span style=\"color:#33cc33\">Correct</span>"
      ],
      "text/plain": [
       "Correct"
      ]
     },
     "metadata": {},
     "output_type": "display_data"
    }
   ],
   "source": [
    "countries = reviews.country.unique()\n",
    "\n",
    "# Check your answer\n",
    "q2.check()"
   ]
  },
  {
   "cell_type": "code",
   "execution_count": 5,
   "id": "976e8b6a",
   "metadata": {
    "execution": {
     "iopub.execute_input": "2022-01-29T15:53:14.162777Z",
     "iopub.status.busy": "2022-01-29T15:53:14.162003Z",
     "iopub.status.idle": "2022-01-29T15:53:14.164793Z",
     "shell.execute_reply": "2022-01-29T15:53:14.164320Z",
     "shell.execute_reply.started": "2022-01-29T15:29:51.983727Z"
    },
    "papermill": {
     "duration": 0.024931,
     "end_time": "2022-01-29T15:53:14.164907",
     "exception": false,
     "start_time": "2022-01-29T15:53:14.139976",
     "status": "completed"
    },
    "tags": []
   },
   "outputs": [],
   "source": [
    "#q2.hint()\n",
    "#q2.solution()"
   ]
  },
  {
   "cell_type": "markdown",
   "id": "e5c06a45",
   "metadata": {
    "papermill": {
     "duration": 0.018341,
     "end_time": "2022-01-29T15:53:14.202250",
     "exception": false,
     "start_time": "2022-01-29T15:53:14.183909",
     "status": "completed"
    },
    "tags": []
   },
   "source": [
    "## 3.\n",
    "How often does each country appear in the dataset? Create a Series `reviews_per_country` mapping countries to the count of reviews of wines from that country."
   ]
  },
  {
   "cell_type": "code",
   "execution_count": 6,
   "id": "dd9a9009",
   "metadata": {
    "execution": {
     "iopub.execute_input": "2022-01-29T15:53:14.262076Z",
     "iopub.status.busy": "2022-01-29T15:53:14.261226Z",
     "iopub.status.idle": "2022-01-29T15:53:14.266283Z",
     "shell.execute_reply": "2022-01-29T15:53:14.265800Z",
     "shell.execute_reply.started": "2022-01-29T15:33:42.256944Z"
    },
    "papermill": {
     "duration": 0.045633,
     "end_time": "2022-01-29T15:53:14.266403",
     "exception": false,
     "start_time": "2022-01-29T15:53:14.220770",
     "status": "completed"
    },
    "tags": []
   },
   "outputs": [
    {
     "data": {
      "application/javascript": [
       "parent.postMessage({\"jupyterEvent\": \"custom.exercise_interaction\", \"data\": {\"outcomeType\": 1, \"valueTowardsCompletion\": 0.14285714285714285, \"interactionType\": 1, \"questionType\": 1, \"questionId\": \"3_ReviewsPerCountry\", \"learnToolsVersion\": \"0.3.4\", \"failureMessage\": \"\", \"exceptionClass\": \"\", \"trace\": \"\"}}, \"*\")"
      ],
      "text/plain": [
       "<IPython.core.display.Javascript object>"
      ]
     },
     "metadata": {},
     "output_type": "display_data"
    },
    {
     "data": {
      "text/markdown": [
       "<span style=\"color:#33cc33\">Correct</span>"
      ],
      "text/plain": [
       "Correct"
      ]
     },
     "metadata": {},
     "output_type": "display_data"
    }
   ],
   "source": [
    "reviews_per_country = reviews.country.value_counts()\n",
    "\n",
    "# Check your answer\n",
    "q3.check()"
   ]
  },
  {
   "cell_type": "code",
   "execution_count": 7,
   "id": "876a129a",
   "metadata": {
    "execution": {
     "iopub.execute_input": "2022-01-29T15:53:14.308417Z",
     "iopub.status.busy": "2022-01-29T15:53:14.307798Z",
     "iopub.status.idle": "2022-01-29T15:53:14.310626Z",
     "shell.execute_reply": "2022-01-29T15:53:14.310108Z",
     "shell.execute_reply.started": "2022-01-29T15:33:49.977716Z"
    },
    "papermill": {
     "duration": 0.024683,
     "end_time": "2022-01-29T15:53:14.310746",
     "exception": false,
     "start_time": "2022-01-29T15:53:14.286063",
     "status": "completed"
    },
    "tags": []
   },
   "outputs": [],
   "source": [
    "#q3.hint()\n",
    "#q3.solution()"
   ]
  },
  {
   "cell_type": "markdown",
   "id": "e38b4a71",
   "metadata": {
    "papermill": {
     "duration": 0.018341,
     "end_time": "2022-01-29T15:53:14.347898",
     "exception": false,
     "start_time": "2022-01-29T15:53:14.329557",
     "status": "completed"
    },
    "tags": []
   },
   "source": [
    "## 4.\n",
    "Create variable `centered_price` containing a version of the `price` column with the mean price subtracted.\n",
    "\n",
    "(Note: this 'centering' transformation is a common preprocessing step before applying various machine learning algorithms.) "
   ]
  },
  {
   "cell_type": "code",
   "execution_count": 8,
   "id": "1939f150",
   "metadata": {
    "execution": {
     "iopub.execute_input": "2022-01-29T15:53:14.391120Z",
     "iopub.status.busy": "2022-01-29T15:53:14.390306Z",
     "iopub.status.idle": "2022-01-29T15:53:14.397228Z",
     "shell.execute_reply": "2022-01-29T15:53:14.396801Z",
     "shell.execute_reply.started": "2022-01-29T15:37:34.684790Z"
    },
    "papermill": {
     "duration": 0.030346,
     "end_time": "2022-01-29T15:53:14.397350",
     "exception": false,
     "start_time": "2022-01-29T15:53:14.367004",
     "status": "completed"
    },
    "tags": []
   },
   "outputs": [
    {
     "data": {
      "application/javascript": [
       "parent.postMessage({\"jupyterEvent\": \"custom.exercise_interaction\", \"data\": {\"outcomeType\": 1, \"valueTowardsCompletion\": 0.14285714285714285, \"interactionType\": 1, \"questionType\": 1, \"questionId\": \"4_CenteredPrice\", \"learnToolsVersion\": \"0.3.4\", \"failureMessage\": \"\", \"exceptionClass\": \"\", \"trace\": \"\"}}, \"*\")"
      ],
      "text/plain": [
       "<IPython.core.display.Javascript object>"
      ]
     },
     "metadata": {},
     "output_type": "display_data"
    },
    {
     "data": {
      "text/markdown": [
       "<span style=\"color:#33cc33\">Correct</span>"
      ],
      "text/plain": [
       "Correct"
      ]
     },
     "metadata": {},
     "output_type": "display_data"
    }
   ],
   "source": [
    "centered_price = reviews.price-reviews.price.mean()\n",
    "\n",
    "# Check your answer\n",
    "q4.check()"
   ]
  },
  {
   "cell_type": "code",
   "execution_count": 9,
   "id": "54253c41",
   "metadata": {
    "execution": {
     "iopub.execute_input": "2022-01-29T15:53:14.439941Z",
     "iopub.status.busy": "2022-01-29T15:53:14.439108Z",
     "iopub.status.idle": "2022-01-29T15:53:14.440823Z",
     "shell.execute_reply": "2022-01-29T15:53:14.441330Z",
     "shell.execute_reply.started": "2022-01-29T15:37:38.437599Z"
    },
    "papermill": {
     "duration": 0.024931,
     "end_time": "2022-01-29T15:53:14.441469",
     "exception": false,
     "start_time": "2022-01-29T15:53:14.416538",
     "status": "completed"
    },
    "tags": []
   },
   "outputs": [],
   "source": [
    "#q4.hint()\n",
    "#q4.solution()"
   ]
  },
  {
   "cell_type": "markdown",
   "id": "b3a81002",
   "metadata": {
    "papermill": {
     "duration": 0.019086,
     "end_time": "2022-01-29T15:53:14.479712",
     "exception": false,
     "start_time": "2022-01-29T15:53:14.460626",
     "status": "completed"
    },
    "tags": []
   },
   "source": [
    "## 5.\n",
    "I'm an economical wine buyer. Which wine is the \"best bargain\"? Create a variable `bargain_wine` with the title of the wine with the highest points-to-price ratio in the dataset."
   ]
  },
  {
   "cell_type": "code",
   "execution_count": 10,
   "id": "445df43b",
   "metadata": {
    "execution": {
     "iopub.execute_input": "2022-01-29T15:53:14.523134Z",
     "iopub.status.busy": "2022-01-29T15:53:14.522629Z",
     "iopub.status.idle": "2022-01-29T15:53:14.533323Z",
     "shell.execute_reply": "2022-01-29T15:53:14.532883Z",
     "shell.execute_reply.started": "2022-01-29T15:40:06.990585Z"
    },
    "papermill": {
     "duration": 0.034444,
     "end_time": "2022-01-29T15:53:14.533443",
     "exception": false,
     "start_time": "2022-01-29T15:53:14.498999",
     "status": "completed"
    },
    "tags": []
   },
   "outputs": [
    {
     "data": {
      "application/javascript": [
       "parent.postMessage({\"jupyterEvent\": \"custom.exercise_interaction\", \"data\": {\"outcomeType\": 1, \"valueTowardsCompletion\": 0.14285714285714285, \"interactionType\": 1, \"questionType\": 2, \"questionId\": \"5_BargainWine\", \"learnToolsVersion\": \"0.3.4\", \"failureMessage\": \"\", \"exceptionClass\": \"\", \"trace\": \"\"}}, \"*\")"
      ],
      "text/plain": [
       "<IPython.core.display.Javascript object>"
      ]
     },
     "metadata": {},
     "output_type": "display_data"
    },
    {
     "data": {
      "text/markdown": [
       "<span style=\"color:#33cc33\">Correct</span>"
      ],
      "text/plain": [
       "Correct"
      ]
     },
     "metadata": {},
     "output_type": "display_data"
    }
   ],
   "source": [
    "bargain_idx=(reviews.points/reviews.price).idxmax()\n",
    "bargain_wine =reviews.loc[bargain_idx,'title']\n",
    "\n",
    "# Check your answer\n",
    "q5.check()"
   ]
  },
  {
   "cell_type": "code",
   "execution_count": 11,
   "id": "e0c8c216",
   "metadata": {
    "execution": {
     "iopub.execute_input": "2022-01-29T15:53:14.576950Z",
     "iopub.status.busy": "2022-01-29T15:53:14.576356Z",
     "iopub.status.idle": "2022-01-29T15:53:14.579053Z",
     "shell.execute_reply": "2022-01-29T15:53:14.578640Z",
     "shell.execute_reply.started": "2022-01-29T15:40:07.255302Z"
    },
    "papermill": {
     "duration": 0.025777,
     "end_time": "2022-01-29T15:53:14.579175",
     "exception": false,
     "start_time": "2022-01-29T15:53:14.553398",
     "status": "completed"
    },
    "tags": []
   },
   "outputs": [],
   "source": [
    "#q5.hint()\n",
    "#q5.solution()"
   ]
  },
  {
   "cell_type": "markdown",
   "id": "7f9efe63",
   "metadata": {
    "papermill": {
     "duration": 0.019922,
     "end_time": "2022-01-29T15:53:14.618971",
     "exception": false,
     "start_time": "2022-01-29T15:53:14.599049",
     "status": "completed"
    },
    "tags": []
   },
   "source": [
    "## 6.\n",
    "There are only so many words you can use when describing a bottle of wine. Is a wine more likely to be \"tropical\" or \"fruity\"? Create a Series `descriptor_counts` counting how many times each of these two words appears in the `description` column in the dataset. (For simplicity, let's ignore the capitalized versions of these words.)"
   ]
  },
  {
   "cell_type": "code",
   "execution_count": 12,
   "id": "3b3827d5",
   "metadata": {
    "execution": {
     "iopub.execute_input": "2022-01-29T15:53:14.661789Z",
     "iopub.status.busy": "2022-01-29T15:53:14.660982Z",
     "iopub.status.idle": "2022-01-29T15:53:14.790366Z",
     "shell.execute_reply": "2022-01-29T15:53:14.789888Z",
     "shell.execute_reply.started": "2022-01-29T15:46:42.327085Z"
    },
    "papermill": {
     "duration": 0.151536,
     "end_time": "2022-01-29T15:53:14.790493",
     "exception": false,
     "start_time": "2022-01-29T15:53:14.638957",
     "status": "completed"
    },
    "tags": []
   },
   "outputs": [
    {
     "data": {
      "application/javascript": [
       "parent.postMessage({\"jupyterEvent\": \"custom.exercise_interaction\", \"data\": {\"outcomeType\": 1, \"valueTowardsCompletion\": 0.14285714285714285, \"interactionType\": 1, \"questionType\": 1, \"questionId\": \"6_DescriptorCounts\", \"learnToolsVersion\": \"0.3.4\", \"failureMessage\": \"\", \"exceptionClass\": \"\", \"trace\": \"\"}}, \"*\")"
      ],
      "text/plain": [
       "<IPython.core.display.Javascript object>"
      ]
     },
     "metadata": {},
     "output_type": "display_data"
    },
    {
     "data": {
      "text/markdown": [
       "<span style=\"color:#33cc33\">Correct</span>"
      ],
      "text/plain": [
       "Correct"
      ]
     },
     "metadata": {},
     "output_type": "display_data"
    }
   ],
   "source": [
    "n_trop=reviews.description.map(lambda desc: \"tropical\" in desc).sum()\n",
    "n_fruity=reviews.description.map(lambda desc: \"fruity\" in desc).sum()\n",
    "\n",
    "descriptor_counts = pd.Series([n_trop,n_fruity],index=['tropical','fruity'])\n",
    "\n",
    "# Check your answer\n",
    "q6.check()"
   ]
  },
  {
   "cell_type": "code",
   "execution_count": 13,
   "id": "80943a1d",
   "metadata": {
    "execution": {
     "iopub.execute_input": "2022-01-29T15:53:14.836144Z",
     "iopub.status.busy": "2022-01-29T15:53:14.835482Z",
     "iopub.status.idle": "2022-01-29T15:53:14.837660Z",
     "shell.execute_reply": "2022-01-29T15:53:14.838069Z",
     "shell.execute_reply.started": "2022-01-29T15:46:47.828342Z"
    },
    "papermill": {
     "duration": 0.026665,
     "end_time": "2022-01-29T15:53:14.838226",
     "exception": false,
     "start_time": "2022-01-29T15:53:14.811561",
     "status": "completed"
    },
    "tags": []
   },
   "outputs": [],
   "source": [
    "#q6.hint()\n",
    "#q6.solution()"
   ]
  },
  {
   "cell_type": "markdown",
   "id": "d97ce23c",
   "metadata": {
    "papermill": {
     "duration": 0.020746,
     "end_time": "2022-01-29T15:53:14.880042",
     "exception": false,
     "start_time": "2022-01-29T15:53:14.859296",
     "status": "completed"
    },
    "tags": []
   },
   "source": [
    "## 7.\n",
    "We'd like to host these wine reviews on our website, but a rating system ranging from 80 to 100 points is too hard to understand - we'd like to translate them into simple star ratings. A score of 95 or higher counts as 3 stars, a score of at least 85 but less than 95 is 2 stars. Any other score is 1 star.\n",
    "\n",
    "Also, the Canadian Vintners Association bought a lot of ads on the site, so any wines from Canada should automatically get 3 stars, regardless of points.\n",
    "\n",
    "Create a series `star_ratings` with the number of stars corresponding to each review in the dataset."
   ]
  },
  {
   "cell_type": "code",
   "execution_count": 14,
   "id": "8e4a35eb",
   "metadata": {
    "execution": {
     "iopub.execute_input": "2022-01-29T15:53:14.927971Z",
     "iopub.status.busy": "2022-01-29T15:53:14.927138Z",
     "iopub.status.idle": "2022-01-29T15:53:19.065256Z",
     "shell.execute_reply": "2022-01-29T15:53:19.065690Z",
     "shell.execute_reply.started": "2022-01-29T15:52:23.529970Z"
    },
    "papermill": {
     "duration": 4.164718,
     "end_time": "2022-01-29T15:53:19.065918",
     "exception": false,
     "start_time": "2022-01-29T15:53:14.901200",
     "status": "completed"
    },
    "tags": []
   },
   "outputs": [
    {
     "data": {
      "application/javascript": [
       "parent.postMessage({\"jupyterEvent\": \"custom.exercise_interaction\", \"data\": {\"outcomeType\": 1, \"valueTowardsCompletion\": 0.14285714285714285, \"interactionType\": 1, \"questionType\": 1, \"questionId\": \"7_StarRatings\", \"learnToolsVersion\": \"0.3.4\", \"failureMessage\": \"\", \"exceptionClass\": \"\", \"trace\": \"\"}}, \"*\")"
      ],
      "text/plain": [
       "<IPython.core.display.Javascript object>"
      ]
     },
     "metadata": {},
     "output_type": "display_data"
    },
    {
     "data": {
      "text/markdown": [
       "<span style=\"color:#33cc33\">Correct</span>"
      ],
      "text/plain": [
       "Correct"
      ]
     },
     "metadata": {},
     "output_type": "display_data"
    }
   ],
   "source": [
    "def stars(row):\n",
    "    if row.country=='Canada':\n",
    "        return 3\n",
    "    elif row.points>=95:\n",
    "        return 3\n",
    "    elif row.points>=85:\n",
    "        return 2\n",
    "    else:\n",
    "        return 1\n",
    "\n",
    "star_ratings = reviews.apply(stars,axis='columns')\n",
    "\n",
    "# Check your answer\n",
    "q7.check()"
   ]
  },
  {
   "cell_type": "code",
   "execution_count": 15,
   "id": "18a0e953",
   "metadata": {
    "execution": {
     "iopub.execute_input": "2022-01-29T15:53:19.114243Z",
     "iopub.status.busy": "2022-01-29T15:53:19.113577Z",
     "iopub.status.idle": "2022-01-29T15:53:19.115747Z",
     "shell.execute_reply": "2022-01-29T15:53:19.116167Z",
     "shell.execute_reply.started": "2022-01-29T15:52:33.686163Z"
    },
    "papermill": {
     "duration": 0.028177,
     "end_time": "2022-01-29T15:53:19.116307",
     "exception": false,
     "start_time": "2022-01-29T15:53:19.088130",
     "status": "completed"
    },
    "tags": []
   },
   "outputs": [],
   "source": [
    "#q7.hint()\n",
    "#q7.solution()"
   ]
  },
  {
   "cell_type": "markdown",
   "id": "e87bcd98",
   "metadata": {
    "papermill": {
     "duration": 0.021397,
     "end_time": "2022-01-29T15:53:19.159279",
     "exception": false,
     "start_time": "2022-01-29T15:53:19.137882",
     "status": "completed"
    },
    "tags": []
   },
   "source": [
    "# Keep going\n",
    "Continue to **[grouping and sorting](https://www.kaggle.com/residentmario/grouping-and-sorting)**."
   ]
  },
  {
   "cell_type": "markdown",
   "id": "beb20835",
   "metadata": {
    "papermill": {
     "duration": 0.021652,
     "end_time": "2022-01-29T15:53:19.202847",
     "exception": false,
     "start_time": "2022-01-29T15:53:19.181195",
     "status": "completed"
    },
    "tags": []
   },
   "source": [
    "---\n",
    "\n",
    "\n",
    "\n",
    "\n",
    "*Have questions or comments? Visit the [course discussion forum](https://www.kaggle.com/learn/pandas/discussion) to chat with other learners.*"
   ]
  }
 ],
 "metadata": {
  "kernelspec": {
   "display_name": "Python 3",
   "language": "python",
   "name": "python3"
  },
  "language_info": {
   "codemirror_mode": {
    "name": "ipython",
    "version": 3
   },
   "file_extension": ".py",
   "mimetype": "text/x-python",
   "name": "python",
   "nbconvert_exporter": "python",
   "pygments_lexer": "ipython3",
   "version": "3.7.12"
  },
  "papermill": {
   "default_parameters": {},
   "duration": 20.75997,
   "end_time": "2022-01-29T15:53:19.734198",
   "environment_variables": {},
   "exception": null,
   "input_path": "__notebook__.ipynb",
   "output_path": "__notebook__.ipynb",
   "parameters": {},
   "start_time": "2022-01-29T15:52:58.974228",
   "version": "2.3.3"
  }
 },
 "nbformat": 4,
 "nbformat_minor": 5
}
