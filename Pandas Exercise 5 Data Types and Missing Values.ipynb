{
 "cells": [
  {
   "cell_type": "markdown",
   "id": "34653f1a",
   "metadata": {
    "papermill": {
     "duration": 0.011366,
     "end_time": "2022-01-29T18:51:11.516393",
     "exception": false,
     "start_time": "2022-01-29T18:51:11.505027",
     "status": "completed"
    },
    "tags": []
   },
   "source": [
    "**This notebook is an exercise in the [Pandas](https://www.kaggle.com/learn/pandas) course.  You can reference the tutorial at [this link](https://www.kaggle.com/residentmario/data-types-and-missing-values).**\n",
    "\n",
    "---\n"
   ]
  },
  {
   "cell_type": "markdown",
   "id": "ebb37362",
   "metadata": {
    "papermill": {
     "duration": 0.010274,
     "end_time": "2022-01-29T18:51:11.538550",
     "exception": false,
     "start_time": "2022-01-29T18:51:11.528276",
     "status": "completed"
    },
    "tags": []
   },
   "source": [
    "# Introduction\n",
    "\n",
    "Run the following cell to load your data and some utility functions."
   ]
  },
  {
   "cell_type": "code",
   "execution_count": 1,
   "id": "28d5dfa0",
   "metadata": {
    "execution": {
     "iopub.execute_input": "2022-01-29T18:51:11.563874Z",
     "iopub.status.busy": "2022-01-29T18:51:11.562290Z",
     "iopub.status.idle": "2022-01-29T18:51:14.233553Z",
     "shell.execute_reply": "2022-01-29T18:51:14.235028Z",
     "shell.execute_reply.started": "2022-01-29T18:41:55.372133Z"
    },
    "papermill": {
     "duration": 2.686931,
     "end_time": "2022-01-29T18:51:14.235588",
     "exception": false,
     "start_time": "2022-01-29T18:51:11.548657",
     "status": "completed"
    },
    "tags": []
   },
   "outputs": [
    {
     "name": "stdout",
     "output_type": "stream",
     "text": [
      "Setup complete.\n"
     ]
    }
   ],
   "source": [
    "import pandas as pd\n",
    "\n",
    "reviews = pd.read_csv(\"../input/wine-reviews/winemag-data-130k-v2.csv\", index_col=0)\n",
    "\n",
    "from learntools.core import binder; binder.bind(globals())\n",
    "from learntools.pandas.data_types_and_missing_data import *\n",
    "print(\"Setup complete.\")"
   ]
  },
  {
   "cell_type": "markdown",
   "id": "7fcb9664",
   "metadata": {
    "papermill": {
     "duration": 0.017898,
     "end_time": "2022-01-29T18:51:14.272752",
     "exception": false,
     "start_time": "2022-01-29T18:51:14.254854",
     "status": "completed"
    },
    "tags": []
   },
   "source": [
    "# Exercises"
   ]
  },
  {
   "cell_type": "markdown",
   "id": "1e255c75",
   "metadata": {
    "papermill": {
     "duration": 0.016379,
     "end_time": "2022-01-29T18:51:14.306148",
     "exception": false,
     "start_time": "2022-01-29T18:51:14.289769",
     "status": "completed"
    },
    "tags": []
   },
   "source": [
    "## 1. \n",
    "What is the data type of the `points` column in the dataset?"
   ]
  },
  {
   "cell_type": "code",
   "execution_count": 2,
   "id": "8b9f4456",
   "metadata": {
    "execution": {
     "iopub.execute_input": "2022-01-29T18:51:14.344412Z",
     "iopub.status.busy": "2022-01-29T18:51:14.343578Z",
     "iopub.status.idle": "2022-01-29T18:51:14.353400Z",
     "shell.execute_reply": "2022-01-29T18:51:14.354034Z",
     "shell.execute_reply.started": "2022-01-29T18:43:41.046048Z"
    },
    "papermill": {
     "duration": 0.031345,
     "end_time": "2022-01-29T18:51:14.354205",
     "exception": false,
     "start_time": "2022-01-29T18:51:14.322860",
     "status": "completed"
    },
    "tags": []
   },
   "outputs": [
    {
     "data": {
      "application/javascript": [
       "parent.postMessage({\"jupyterEvent\": \"custom.exercise_interaction\", \"data\": {\"outcomeType\": 1, \"valueTowardsCompletion\": 0.25, \"interactionType\": 1, \"questionType\": 1, \"questionId\": \"1_PointsDtype\", \"learnToolsVersion\": \"0.3.4\", \"failureMessage\": \"\", \"exceptionClass\": \"\", \"trace\": \"\"}}, \"*\")"
      ],
      "text/plain": [
       "<IPython.core.display.Javascript object>"
      ]
     },
     "metadata": {},
     "output_type": "display_data"
    },
    {
     "data": {
      "text/markdown": [
       "<span style=\"color:#33cc33\">Correct</span>"
      ],
      "text/plain": [
       "Correct"
      ]
     },
     "metadata": {},
     "output_type": "display_data"
    }
   ],
   "source": [
    "# Your code here\n",
    "dtype = reviews.points.dtype\n",
    "\n",
    "# Check your answer\n",
    "q1.check()"
   ]
  },
  {
   "cell_type": "code",
   "execution_count": 3,
   "id": "f6d1898c",
   "metadata": {
    "execution": {
     "iopub.execute_input": "2022-01-29T18:51:14.394072Z",
     "iopub.status.busy": "2022-01-29T18:51:14.393430Z",
     "iopub.status.idle": "2022-01-29T18:51:14.397484Z",
     "shell.execute_reply": "2022-01-29T18:51:14.396708Z",
     "shell.execute_reply.started": "2022-01-29T18:43:50.414092Z"
    },
    "papermill": {
     "duration": 0.025205,
     "end_time": "2022-01-29T18:51:14.397637",
     "exception": false,
     "start_time": "2022-01-29T18:51:14.372432",
     "status": "completed"
    },
    "tags": []
   },
   "outputs": [],
   "source": [
    "#q1.hint()\n",
    "#q1.solution()"
   ]
  },
  {
   "cell_type": "markdown",
   "id": "0bd37179",
   "metadata": {
    "papermill": {
     "duration": 0.019365,
     "end_time": "2022-01-29T18:51:14.436533",
     "exception": false,
     "start_time": "2022-01-29T18:51:14.417168",
     "status": "completed"
    },
    "tags": []
   },
   "source": [
    "## 2. \n",
    "Create a Series from entries in the `points` column, but convert the entries to strings. Hint: strings are `str` in native Python."
   ]
  },
  {
   "cell_type": "code",
   "execution_count": 4,
   "id": "21dcae02",
   "metadata": {
    "execution": {
     "iopub.execute_input": "2022-01-29T18:51:14.657824Z",
     "iopub.status.busy": "2022-01-29T18:51:14.654965Z",
     "iopub.status.idle": "2022-01-29T18:51:14.662834Z",
     "shell.execute_reply": "2022-01-29T18:51:14.662399Z",
     "shell.execute_reply.started": "2022-01-29T18:44:51.949895Z"
    },
    "papermill": {
     "duration": 0.206533,
     "end_time": "2022-01-29T18:51:14.662963",
     "exception": false,
     "start_time": "2022-01-29T18:51:14.456430",
     "status": "completed"
    },
    "tags": []
   },
   "outputs": [
    {
     "data": {
      "application/javascript": [
       "parent.postMessage({\"jupyterEvent\": \"custom.exercise_interaction\", \"data\": {\"outcomeType\": 1, \"valueTowardsCompletion\": 0.25, \"interactionType\": 1, \"questionType\": 1, \"questionId\": \"2_StrPoints\", \"learnToolsVersion\": \"0.3.4\", \"failureMessage\": \"\", \"exceptionClass\": \"\", \"trace\": \"\"}}, \"*\")"
      ],
      "text/plain": [
       "<IPython.core.display.Javascript object>"
      ]
     },
     "metadata": {},
     "output_type": "display_data"
    },
    {
     "data": {
      "text/markdown": [
       "<span style=\"color:#33cc33\">Correct</span>"
      ],
      "text/plain": [
       "Correct"
      ]
     },
     "metadata": {},
     "output_type": "display_data"
    }
   ],
   "source": [
    "point_strings = reviews.points.astype(str)\n",
    "\n",
    "# Check your answer\n",
    "q2.check()"
   ]
  },
  {
   "cell_type": "code",
   "execution_count": 5,
   "id": "f77a3ab1",
   "metadata": {
    "execution": {
     "iopub.execute_input": "2022-01-29T18:51:14.692475Z",
     "iopub.status.busy": "2022-01-29T18:51:14.691832Z",
     "iopub.status.idle": "2022-01-29T18:51:14.694876Z",
     "shell.execute_reply": "2022-01-29T18:51:14.694413Z",
     "shell.execute_reply.started": "2022-01-29T18:44:58.039686Z"
    },
    "papermill": {
     "duration": 0.019286,
     "end_time": "2022-01-29T18:51:14.695019",
     "exception": false,
     "start_time": "2022-01-29T18:51:14.675733",
     "status": "completed"
    },
    "tags": []
   },
   "outputs": [],
   "source": [
    "#q2.hint()\n",
    "#q2.solution()"
   ]
  },
  {
   "cell_type": "markdown",
   "id": "4bd93232",
   "metadata": {
    "papermill": {
     "duration": 0.012352,
     "end_time": "2022-01-29T18:51:14.720239",
     "exception": false,
     "start_time": "2022-01-29T18:51:14.707887",
     "status": "completed"
    },
    "tags": []
   },
   "source": [
    "## 3.\n",
    "Sometimes the price column is null. How many reviews in the dataset are missing a price?"
   ]
  },
  {
   "cell_type": "code",
   "execution_count": 6,
   "id": "fdfd6cba",
   "metadata": {
    "execution": {
     "iopub.execute_input": "2022-01-29T18:51:14.752177Z",
     "iopub.status.busy": "2022-01-29T18:51:14.751617Z",
     "iopub.status.idle": "2022-01-29T18:51:14.760892Z",
     "shell.execute_reply": "2022-01-29T18:51:14.760428Z",
     "shell.execute_reply.started": "2022-01-29T18:46:59.059610Z"
    },
    "papermill": {
     "duration": 0.027236,
     "end_time": "2022-01-29T18:51:14.761001",
     "exception": false,
     "start_time": "2022-01-29T18:51:14.733765",
     "status": "completed"
    },
    "tags": []
   },
   "outputs": [
    {
     "data": {
      "application/javascript": [
       "parent.postMessage({\"jupyterEvent\": \"custom.exercise_interaction\", \"data\": {\"outcomeType\": 1, \"valueTowardsCompletion\": 0.25, \"interactionType\": 1, \"questionType\": 1, \"questionId\": \"3_CountMissingPrices\", \"learnToolsVersion\": \"0.3.4\", \"failureMessage\": \"\", \"exceptionClass\": \"\", \"trace\": \"\"}}, \"*\")"
      ],
      "text/plain": [
       "<IPython.core.display.Javascript object>"
      ]
     },
     "metadata": {},
     "output_type": "display_data"
    },
    {
     "data": {
      "text/markdown": [
       "<span style=\"color:#33cc33\">Correct</span>"
      ],
      "text/plain": [
       "Correct"
      ]
     },
     "metadata": {},
     "output_type": "display_data"
    }
   ],
   "source": [
    "n_missing_prices = reviews.price.isnull().sum()\n",
    "\n",
    "# Check your answer\n",
    "q3.check()"
   ]
  },
  {
   "cell_type": "code",
   "execution_count": 7,
   "id": "fc0e6ffd",
   "metadata": {
    "execution": {
     "iopub.execute_input": "2022-01-29T18:51:14.793395Z",
     "iopub.status.busy": "2022-01-29T18:51:14.792639Z",
     "iopub.status.idle": "2022-01-29T18:51:14.795584Z",
     "shell.execute_reply": "2022-01-29T18:51:14.796027Z",
     "shell.execute_reply.started": "2022-01-29T18:47:03.451771Z"
    },
    "papermill": {
     "duration": 0.020807,
     "end_time": "2022-01-29T18:51:14.796165",
     "exception": false,
     "start_time": "2022-01-29T18:51:14.775358",
     "status": "completed"
    },
    "tags": []
   },
   "outputs": [],
   "source": [
    "#q3.hint()\n",
    "#q3.solution()"
   ]
  },
  {
   "cell_type": "markdown",
   "id": "552b4a21",
   "metadata": {
    "papermill": {
     "duration": 0.013854,
     "end_time": "2022-01-29T18:51:14.823618",
     "exception": false,
     "start_time": "2022-01-29T18:51:14.809764",
     "status": "completed"
    },
    "tags": []
   },
   "source": [
    "## 4.\n",
    "What are the most common wine-producing regions? Create a Series counting the number of times each value occurs in the `region_1` field. This field is often missing data, so replace missing values with `Unknown`. Sort in descending order.  Your output should look something like this:\n",
    "\n",
    "```\n",
    "Unknown                    21247\n",
    "Napa Valley                 4480\n",
    "                           ...  \n",
    "Bardolino Superiore            1\n",
    "Primitivo del Tarantino        1\n",
    "Name: region_1, Length: 1230, dtype: int64\n",
    "```"
   ]
  },
  {
   "cell_type": "code",
   "execution_count": 8,
   "id": "cdb9fb61",
   "metadata": {
    "execution": {
     "iopub.execute_input": "2022-01-29T18:51:14.869658Z",
     "iopub.status.busy": "2022-01-29T18:51:14.868627Z",
     "iopub.status.idle": "2022-01-29T18:51:14.923928Z",
     "shell.execute_reply": "2022-01-29T18:51:14.924371Z",
     "shell.execute_reply.started": "2022-01-29T18:50:40.218487Z"
    },
    "papermill": {
     "duration": 0.086557,
     "end_time": "2022-01-29T18:51:14.924522",
     "exception": false,
     "start_time": "2022-01-29T18:51:14.837965",
     "status": "completed"
    },
    "tags": []
   },
   "outputs": [
    {
     "data": {
      "application/javascript": [
       "parent.postMessage({\"jupyterEvent\": \"custom.exercise_interaction\", \"data\": {\"outcomeType\": 1, \"valueTowardsCompletion\": 0.25, \"interactionType\": 1, \"questionType\": 2, \"questionId\": \"4_ReviewsPerRegion\", \"learnToolsVersion\": \"0.3.4\", \"failureMessage\": \"\", \"exceptionClass\": \"\", \"trace\": \"\"}}, \"*\")"
      ],
      "text/plain": [
       "<IPython.core.display.Javascript object>"
      ]
     },
     "metadata": {},
     "output_type": "display_data"
    },
    {
     "data": {
      "text/markdown": [
       "<span style=\"color:#33cc33\">Correct</span>"
      ],
      "text/plain": [
       "Correct"
      ]
     },
     "metadata": {},
     "output_type": "display_data"
    }
   ],
   "source": [
    "reviews_per_region = reviews.region_1.fillna('Unknown').value_counts().sort_values(ascending=False)\n",
    "\n",
    "# Check your answer\n",
    "q4.check()"
   ]
  },
  {
   "cell_type": "code",
   "execution_count": 9,
   "id": "e14f2c35",
   "metadata": {
    "execution": {
     "iopub.execute_input": "2022-01-29T18:51:14.959736Z",
     "iopub.status.busy": "2022-01-29T18:51:14.958096Z",
     "iopub.status.idle": "2022-01-29T18:51:14.960368Z",
     "shell.execute_reply": "2022-01-29T18:51:14.960783Z",
     "shell.execute_reply.started": "2022-01-29T18:50:44.581748Z"
    },
    "papermill": {
     "duration": 0.021403,
     "end_time": "2022-01-29T18:51:14.960941",
     "exception": false,
     "start_time": "2022-01-29T18:51:14.939538",
     "status": "completed"
    },
    "tags": []
   },
   "outputs": [],
   "source": [
    "#q4.hint()\n",
    "#q4.solution()"
   ]
  },
  {
   "cell_type": "markdown",
   "id": "9f354dc3",
   "metadata": {
    "papermill": {
     "duration": 0.014892,
     "end_time": "2022-01-29T18:51:14.991044",
     "exception": false,
     "start_time": "2022-01-29T18:51:14.976152",
     "status": "completed"
    },
    "tags": []
   },
   "source": [
    "# Keep going\n",
    "\n",
    "Move on to **[renaming and combining](https://www.kaggle.com/residentmario/renaming-and-combining)**."
   ]
  },
  {
   "cell_type": "markdown",
   "id": "b949c584",
   "metadata": {
    "papermill": {
     "duration": 0.015301,
     "end_time": "2022-01-29T18:51:15.022030",
     "exception": false,
     "start_time": "2022-01-29T18:51:15.006729",
     "status": "completed"
    },
    "tags": []
   },
   "source": [
    "---\n",
    "\n",
    "\n",
    "\n",
    "\n",
    "*Have questions or comments? Visit the [course discussion forum](https://www.kaggle.com/learn/pandas/discussion) to chat with other learners.*"
   ]
  }
 ],
 "metadata": {
  "kernelspec": {
   "display_name": "Python 3",
   "language": "python",
   "name": "python3"
  },
  "language_info": {
   "codemirror_mode": {
    "name": "ipython",
    "version": 3
   },
   "file_extension": ".py",
   "mimetype": "text/x-python",
   "name": "python",
   "nbconvert_exporter": "python",
   "pygments_lexer": "ipython3",
   "version": "3.7.12"
  },
  "papermill": {
   "default_parameters": {},
   "duration": 12.048857,
   "end_time": "2022-01-29T18:51:15.547588",
   "environment_variables": {},
   "exception": null,
   "input_path": "__notebook__.ipynb",
   "output_path": "__notebook__.ipynb",
   "parameters": {},
   "start_time": "2022-01-29T18:51:03.498731",
   "version": "2.3.3"
  }
 },
 "nbformat": 4,
 "nbformat_minor": 5
}
