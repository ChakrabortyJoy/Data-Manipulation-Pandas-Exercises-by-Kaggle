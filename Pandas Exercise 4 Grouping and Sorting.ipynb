{
 "cells": [
  {
   "cell_type": "markdown",
   "id": "8e8a8600",
   "metadata": {
    "papermill": {
     "duration": 0.020418,
     "end_time": "2022-01-29T18:38:10.337584",
     "exception": false,
     "start_time": "2022-01-29T18:38:10.317166",
     "status": "completed"
    },
    "tags": []
   },
   "source": [
    "**This notebook is an exercise in the [Pandas](https://www.kaggle.com/learn/pandas) course.  You can reference the tutorial at [this link](https://www.kaggle.com/residentmario/grouping-and-sorting).**\n",
    "\n",
    "---\n"
   ]
  },
  {
   "cell_type": "markdown",
   "id": "c055fecd",
   "metadata": {
    "papermill": {
     "duration": 0.018415,
     "end_time": "2022-01-29T18:38:10.377344",
     "exception": false,
     "start_time": "2022-01-29T18:38:10.358929",
     "status": "completed"
    },
    "tags": []
   },
   "source": [
    "# Introduction\n",
    "\n",
    "In these exercises we'll apply groupwise analysis to our dataset.\n",
    "\n",
    "Run the code cell below to load the data before running the exercises."
   ]
  },
  {
   "cell_type": "code",
   "execution_count": 1,
   "id": "4b4ef9cb",
   "metadata": {
    "execution": {
     "iopub.execute_input": "2022-01-29T18:38:10.424968Z",
     "iopub.status.busy": "2022-01-29T18:38:10.423904Z",
     "iopub.status.idle": "2022-01-29T18:38:13.307283Z",
     "shell.execute_reply": "2022-01-29T18:38:13.308133Z",
     "shell.execute_reply.started": "2022-01-29T17:58:28.784156Z"
    },
    "papermill": {
     "duration": 2.912576,
     "end_time": "2022-01-29T18:38:13.308570",
     "exception": false,
     "start_time": "2022-01-29T18:38:10.395994",
     "status": "completed"
    },
    "tags": []
   },
   "outputs": [
    {
     "name": "stdout",
     "output_type": "stream",
     "text": [
      "Setup complete.\n"
     ]
    }
   ],
   "source": [
    "import pandas as pd\n",
    "\n",
    "reviews = pd.read_csv(\"../input/wine-reviews/winemag-data-130k-v2.csv\", index_col=0)\n",
    "#pd.set_option(\"display.max_rows\", 5)\n",
    "\n",
    "from learntools.core import binder; binder.bind(globals())\n",
    "from learntools.pandas.grouping_and_sorting import *\n",
    "print(\"Setup complete.\")"
   ]
  },
  {
   "cell_type": "markdown",
   "id": "13b5bcca",
   "metadata": {
    "papermill": {
     "duration": 0.019391,
     "end_time": "2022-01-29T18:38:13.348899",
     "exception": false,
     "start_time": "2022-01-29T18:38:13.329508",
     "status": "completed"
    },
    "tags": []
   },
   "source": [
    "# Exercises"
   ]
  },
  {
   "cell_type": "markdown",
   "id": "8bba4563",
   "metadata": {
    "papermill": {
     "duration": 0.018849,
     "end_time": "2022-01-29T18:38:13.386800",
     "exception": false,
     "start_time": "2022-01-29T18:38:13.367951",
     "status": "completed"
    },
    "tags": []
   },
   "source": [
    "## 1.\n",
    "Who are the most common wine reviewers in the dataset? Create a `Series` whose index is the `taster_twitter_handle` category from the dataset, and whose values count how many reviews each person wrote."
   ]
  },
  {
   "cell_type": "code",
   "execution_count": 2,
   "id": "87c05072",
   "metadata": {
    "execution": {
     "iopub.execute_input": "2022-01-29T18:38:13.445514Z",
     "iopub.status.busy": "2022-01-29T18:38:13.444426Z",
     "iopub.status.idle": "2022-01-29T18:38:13.458932Z",
     "shell.execute_reply": "2022-01-29T18:38:13.459493Z",
     "shell.execute_reply.started": "2022-01-29T18:00:14.970068Z"
    },
    "papermill": {
     "duration": 0.053782,
     "end_time": "2022-01-29T18:38:13.459670",
     "exception": false,
     "start_time": "2022-01-29T18:38:13.405888",
     "status": "completed"
    },
    "tags": []
   },
   "outputs": [
    {
     "data": {
      "application/javascript": [
       "parent.postMessage({\"jupyterEvent\": \"custom.exercise_interaction\", \"data\": {\"outcomeType\": 1, \"valueTowardsCompletion\": 0.16666666666666666, \"interactionType\": 1, \"questionType\": 1, \"questionId\": \"1_ReviewsWritten\", \"learnToolsVersion\": \"0.3.4\", \"failureMessage\": \"\", \"exceptionClass\": \"\", \"trace\": \"\"}}, \"*\")"
      ],
      "text/plain": [
       "<IPython.core.display.Javascript object>"
      ]
     },
     "metadata": {},
     "output_type": "display_data"
    },
    {
     "data": {
      "text/markdown": [
       "<span style=\"color:#33cc33\">Correct:</span> \n",
       "\n",
       "\n",
       "```python\n",
       "reviews_written = reviews.groupby('taster_twitter_handle').size()\n",
       "```\n",
       "or\n",
       "```python\n",
       "reviews_written = reviews.groupby('taster_twitter_handle').taster_twitter_handle.count()\n",
       "```\n"
      ],
      "text/plain": [
       "Correct: \n",
       "\n",
       "\n",
       "```python\n",
       "reviews_written = reviews.groupby('taster_twitter_handle').size()\n",
       "```\n",
       "or\n",
       "```python\n",
       "reviews_written = reviews.groupby('taster_twitter_handle').taster_twitter_handle.count()\n",
       "```"
      ]
     },
     "metadata": {},
     "output_type": "display_data"
    }
   ],
   "source": [
    "# Your code here\n",
    "reviews_written = reviews.groupby('taster_twitter_handle').size()\n",
    "\n",
    "# Check your answer\n",
    "q1.check()"
   ]
  },
  {
   "cell_type": "code",
   "execution_count": 3,
   "id": "b0668c2b",
   "metadata": {
    "execution": {
     "iopub.execute_input": "2022-01-29T18:38:13.505636Z",
     "iopub.status.busy": "2022-01-29T18:38:13.504500Z",
     "iopub.status.idle": "2022-01-29T18:38:13.506832Z",
     "shell.execute_reply": "2022-01-29T18:38:13.507443Z",
     "shell.execute_reply.started": "2022-01-29T18:00:15.190160Z"
    },
    "papermill": {
     "duration": 0.027388,
     "end_time": "2022-01-29T18:38:13.507591",
     "exception": false,
     "start_time": "2022-01-29T18:38:13.480203",
     "status": "completed"
    },
    "tags": []
   },
   "outputs": [],
   "source": [
    "#q1.hint()\n",
    "#q1.solution()"
   ]
  },
  {
   "cell_type": "markdown",
   "id": "9042eea9",
   "metadata": {
    "papermill": {
     "duration": 0.02092,
     "end_time": "2022-01-29T18:38:13.548972",
     "exception": false,
     "start_time": "2022-01-29T18:38:13.528052",
     "status": "completed"
    },
    "tags": []
   },
   "source": [
    "## 2.\n",
    "What is the best wine I can buy for a given amount of money? Create a `Series` whose index is wine prices and whose values is the maximum number of points a wine costing that much was given in a review. Sort the values by price, ascending (so that `4.0` dollars is at the top and `3300.0` dollars is at the bottom)."
   ]
  },
  {
   "cell_type": "code",
   "execution_count": 4,
   "id": "af52dfd5",
   "metadata": {
    "execution": {
     "iopub.execute_input": "2022-01-29T18:38:13.596778Z",
     "iopub.status.busy": "2022-01-29T18:38:13.595720Z",
     "iopub.status.idle": "2022-01-29T18:38:13.609326Z",
     "shell.execute_reply": "2022-01-29T18:38:13.608763Z",
     "shell.execute_reply.started": "2022-01-29T18:04:39.922453Z"
    },
    "papermill": {
     "duration": 0.039867,
     "end_time": "2022-01-29T18:38:13.609505",
     "exception": false,
     "start_time": "2022-01-29T18:38:13.569638",
     "status": "completed"
    },
    "tags": []
   },
   "outputs": [
    {
     "data": {
      "application/javascript": [
       "parent.postMessage({\"jupyterEvent\": \"custom.exercise_interaction\", \"data\": {\"outcomeType\": 1, \"valueTowardsCompletion\": 0.16666666666666666, \"interactionType\": 1, \"questionType\": 1, \"questionId\": \"2_BestRatingPerPrice\", \"learnToolsVersion\": \"0.3.4\", \"failureMessage\": \"\", \"exceptionClass\": \"\", \"trace\": \"\"}}, \"*\")"
      ],
      "text/plain": [
       "<IPython.core.display.Javascript object>"
      ]
     },
     "metadata": {},
     "output_type": "display_data"
    },
    {
     "data": {
      "text/markdown": [
       "<span style=\"color:#33cc33\">Correct</span>"
      ],
      "text/plain": [
       "Correct"
      ]
     },
     "metadata": {},
     "output_type": "display_data"
    }
   ],
   "source": [
    "best_rating_per_price = reviews.groupby('price')['points'].max().sort_index()\n",
    "\n",
    "# Check your answer\n",
    "q2.check()"
   ]
  },
  {
   "cell_type": "code",
   "execution_count": 5,
   "id": "d609d852",
   "metadata": {
    "execution": {
     "iopub.execute_input": "2022-01-29T18:38:13.657831Z",
     "iopub.status.busy": "2022-01-29T18:38:13.656944Z",
     "iopub.status.idle": "2022-01-29T18:38:13.661529Z",
     "shell.execute_reply": "2022-01-29T18:38:13.660898Z",
     "shell.execute_reply.started": "2022-01-29T18:04:46.114500Z"
    },
    "papermill": {
     "duration": 0.030546,
     "end_time": "2022-01-29T18:38:13.661687",
     "exception": false,
     "start_time": "2022-01-29T18:38:13.631141",
     "status": "completed"
    },
    "tags": []
   },
   "outputs": [],
   "source": [
    "#q2.hint()\n",
    "#q2.solution()"
   ]
  },
  {
   "cell_type": "markdown",
   "id": "e4246762",
   "metadata": {
    "papermill": {
     "duration": 0.021243,
     "end_time": "2022-01-29T18:38:13.706349",
     "exception": false,
     "start_time": "2022-01-29T18:38:13.685106",
     "status": "completed"
    },
    "tags": []
   },
   "source": [
    "## 3.\n",
    "What are the minimum and maximum prices for each `variety` of wine? Create a `DataFrame` whose index is the `variety` category from the dataset and whose values are the `min` and `max` values thereof."
   ]
  },
  {
   "cell_type": "code",
   "execution_count": 6,
   "id": "a2351077",
   "metadata": {
    "execution": {
     "iopub.execute_input": "2022-01-29T18:38:13.769697Z",
     "iopub.status.busy": "2022-01-29T18:38:13.768230Z",
     "iopub.status.idle": "2022-01-29T18:38:13.780806Z",
     "shell.execute_reply": "2022-01-29T18:38:13.780219Z",
     "shell.execute_reply.started": "2022-01-29T18:11:30.838280Z"
    },
    "papermill": {
     "duration": 0.053222,
     "end_time": "2022-01-29T18:38:13.780941",
     "exception": false,
     "start_time": "2022-01-29T18:38:13.727719",
     "status": "completed"
    },
    "tags": []
   },
   "outputs": [
    {
     "data": {
      "application/javascript": [
       "parent.postMessage({\"jupyterEvent\": \"custom.exercise_interaction\", \"data\": {\"outcomeType\": 1, \"valueTowardsCompletion\": 0.16666666666666666, \"interactionType\": 1, \"questionType\": 1, \"questionId\": \"3_PriceExtremes\", \"learnToolsVersion\": \"0.3.4\", \"failureMessage\": \"\", \"exceptionClass\": \"\", \"trace\": \"\"}}, \"*\")"
      ],
      "text/plain": [
       "<IPython.core.display.Javascript object>"
      ]
     },
     "metadata": {},
     "output_type": "display_data"
    },
    {
     "data": {
      "text/markdown": [
       "<span style=\"color:#33cc33\">Correct</span>"
      ],
      "text/plain": [
       "Correct"
      ]
     },
     "metadata": {},
     "output_type": "display_data"
    }
   ],
   "source": [
    "price_extremes = reviews.groupby('variety').price.agg([min,max])\n",
    "\n",
    "# Check your answer\n",
    "q3.check()"
   ]
  },
  {
   "cell_type": "code",
   "execution_count": 7,
   "id": "24abec45",
   "metadata": {
    "execution": {
     "iopub.execute_input": "2022-01-29T18:38:13.830876Z",
     "iopub.status.busy": "2022-01-29T18:38:13.830200Z",
     "iopub.status.idle": "2022-01-29T18:38:13.834564Z",
     "shell.execute_reply": "2022-01-29T18:38:13.833966Z",
     "shell.execute_reply.started": "2022-01-29T18:11:31.063765Z"
    },
    "papermill": {
     "duration": 0.031073,
     "end_time": "2022-01-29T18:38:13.834713",
     "exception": false,
     "start_time": "2022-01-29T18:38:13.803640",
     "status": "completed"
    },
    "tags": []
   },
   "outputs": [],
   "source": [
    "#q3.hint()\n",
    "#q3.solution()"
   ]
  },
  {
   "cell_type": "markdown",
   "id": "ef058fd5",
   "metadata": {
    "papermill": {
     "duration": 0.023174,
     "end_time": "2022-01-29T18:38:13.880834",
     "exception": false,
     "start_time": "2022-01-29T18:38:13.857660",
     "status": "completed"
    },
    "tags": []
   },
   "source": [
    "## 4.\n",
    "What are the most expensive wine varieties? Create a variable `sorted_varieties` containing a copy of the dataframe from the previous question where varieties are sorted in descending order based on minimum price, then on maximum price (to break ties)."
   ]
  },
  {
   "cell_type": "code",
   "execution_count": 8,
   "id": "f5de2aa5",
   "metadata": {
    "execution": {
     "iopub.execute_input": "2022-01-29T18:38:13.933897Z",
     "iopub.status.busy": "2022-01-29T18:38:13.933205Z",
     "iopub.status.idle": "2022-01-29T18:38:13.944908Z",
     "shell.execute_reply": "2022-01-29T18:38:13.945475Z",
     "shell.execute_reply.started": "2022-01-29T18:15:37.250204Z"
    },
    "papermill": {
     "duration": 0.041671,
     "end_time": "2022-01-29T18:38:13.945676",
     "exception": false,
     "start_time": "2022-01-29T18:38:13.904005",
     "status": "completed"
    },
    "tags": []
   },
   "outputs": [
    {
     "data": {
      "application/javascript": [
       "parent.postMessage({\"jupyterEvent\": \"custom.exercise_interaction\", \"data\": {\"outcomeType\": 1, \"valueTowardsCompletion\": 0.16666666666666666, \"interactionType\": 1, \"questionType\": 1, \"questionId\": \"4_SortedVarieties\", \"learnToolsVersion\": \"0.3.4\", \"failureMessage\": \"\", \"exceptionClass\": \"\", \"trace\": \"\"}}, \"*\")"
      ],
      "text/plain": [
       "<IPython.core.display.Javascript object>"
      ]
     },
     "metadata": {},
     "output_type": "display_data"
    },
    {
     "data": {
      "text/markdown": [
       "<span style=\"color:#33cc33\">Correct</span>"
      ],
      "text/plain": [
       "Correct"
      ]
     },
     "metadata": {},
     "output_type": "display_data"
    }
   ],
   "source": [
    "sorted_varieties = price_extremes.sort_values(by=['min','max'],ascending=False)\n",
    "\n",
    "# Check your answer\n",
    "q4.check()"
   ]
  },
  {
   "cell_type": "code",
   "execution_count": 9,
   "id": "0aae60ec",
   "metadata": {
    "execution": {
     "iopub.execute_input": "2022-01-29T18:38:13.997696Z",
     "iopub.status.busy": "2022-01-29T18:38:13.996651Z",
     "iopub.status.idle": "2022-01-29T18:38:13.998909Z",
     "shell.execute_reply": "2022-01-29T18:38:13.999472Z",
     "shell.execute_reply.started": "2022-01-29T18:15:41.739480Z"
    },
    "papermill": {
     "duration": 0.030413,
     "end_time": "2022-01-29T18:38:13.999629",
     "exception": false,
     "start_time": "2022-01-29T18:38:13.969216",
     "status": "completed"
    },
    "tags": []
   },
   "outputs": [],
   "source": [
    "#q4.hint()\n",
    "#q4.solution()"
   ]
  },
  {
   "cell_type": "markdown",
   "id": "f73eff68",
   "metadata": {
    "papermill": {
     "duration": 0.023872,
     "end_time": "2022-01-29T18:38:14.047220",
     "exception": false,
     "start_time": "2022-01-29T18:38:14.023348",
     "status": "completed"
    },
    "tags": []
   },
   "source": [
    "## 5.\n",
    "Create a `Series` whose index is reviewers and whose values is the average review score given out by that reviewer. Hint: you will need the `taster_name` and `points` columns."
   ]
  },
  {
   "cell_type": "code",
   "execution_count": 10,
   "id": "28fb70da",
   "metadata": {
    "execution": {
     "iopub.execute_input": "2022-01-29T18:38:14.112301Z",
     "iopub.status.busy": "2022-01-29T18:38:14.111305Z",
     "iopub.status.idle": "2022-01-29T18:38:14.121218Z",
     "shell.execute_reply": "2022-01-29T18:38:14.120708Z",
     "shell.execute_reply.started": "2022-01-29T18:29:53.522853Z"
    },
    "papermill": {
     "duration": 0.050922,
     "end_time": "2022-01-29T18:38:14.121415",
     "exception": false,
     "start_time": "2022-01-29T18:38:14.070493",
     "status": "completed"
    },
    "tags": []
   },
   "outputs": [
    {
     "data": {
      "application/javascript": [
       "parent.postMessage({\"jupyterEvent\": \"custom.exercise_interaction\", \"data\": {\"outcomeType\": 1, \"valueTowardsCompletion\": 0.16666666666666666, \"interactionType\": 1, \"questionType\": 1, \"questionId\": \"5_ReviewerMeanRatings\", \"learnToolsVersion\": \"0.3.4\", \"failureMessage\": \"\", \"exceptionClass\": \"\", \"trace\": \"\"}}, \"*\")"
      ],
      "text/plain": [
       "<IPython.core.display.Javascript object>"
      ]
     },
     "metadata": {},
     "output_type": "display_data"
    },
    {
     "data": {
      "text/markdown": [
       "<span style=\"color:#33cc33\">Correct</span>"
      ],
      "text/plain": [
       "Correct"
      ]
     },
     "metadata": {},
     "output_type": "display_data"
    }
   ],
   "source": [
    "reviewer_mean_ratings = reviews.groupby('taster_name').points.mean()\n",
    "# check your answer\n",
    "q5.check()"
   ]
  },
  {
   "cell_type": "code",
   "execution_count": 11,
   "id": "4dacef50",
   "metadata": {
    "execution": {
     "iopub.execute_input": "2022-01-29T18:38:14.175363Z",
     "iopub.status.busy": "2022-01-29T18:38:14.174306Z",
     "iopub.status.idle": "2022-01-29T18:38:14.176828Z",
     "shell.execute_reply": "2022-01-29T18:38:14.177318Z",
     "shell.execute_reply.started": "2022-01-29T18:29:57.906065Z"
    },
    "papermill": {
     "duration": 0.03095,
     "end_time": "2022-01-29T18:38:14.177485",
     "exception": false,
     "start_time": "2022-01-29T18:38:14.146535",
     "status": "completed"
    },
    "tags": []
   },
   "outputs": [],
   "source": [
    "#q5.hint()\n",
    "#q5.solution()"
   ]
  },
  {
   "cell_type": "markdown",
   "id": "6bc12070",
   "metadata": {
    "papermill": {
     "duration": 0.023955,
     "end_time": "2022-01-29T18:38:14.225156",
     "exception": false,
     "start_time": "2022-01-29T18:38:14.201201",
     "status": "completed"
    },
    "tags": []
   },
   "source": [
    "Are there significant differences in the average scores assigned by the various reviewers? Run the cell below to use the `describe()` method to see a summary of the range of values."
   ]
  },
  {
   "cell_type": "code",
   "execution_count": 12,
   "id": "49df741a",
   "metadata": {
    "execution": {
     "iopub.execute_input": "2022-01-29T18:38:14.282722Z",
     "iopub.status.busy": "2022-01-29T18:38:14.281664Z",
     "iopub.status.idle": "2022-01-29T18:38:14.291100Z",
     "shell.execute_reply": "2022-01-29T18:38:14.290509Z",
     "shell.execute_reply.started": "2022-01-29T18:30:02.436542Z"
    },
    "papermill": {
     "duration": 0.040753,
     "end_time": "2022-01-29T18:38:14.291260",
     "exception": false,
     "start_time": "2022-01-29T18:38:14.250507",
     "status": "completed"
    },
    "tags": []
   },
   "outputs": [
    {
     "data": {
      "text/plain": [
       "count    19.000000\n",
       "mean     88.233026\n",
       "std       1.243610\n",
       "min      85.855422\n",
       "25%      87.323501\n",
       "50%      88.536235\n",
       "75%      88.975256\n",
       "max      90.562551\n",
       "Name: points, dtype: float64"
      ]
     },
     "execution_count": 12,
     "metadata": {},
     "output_type": "execute_result"
    }
   ],
   "source": [
    "reviewer_mean_ratings.describe()"
   ]
  },
  {
   "cell_type": "markdown",
   "id": "1ee1f144",
   "metadata": {
    "papermill": {
     "duration": 0.025194,
     "end_time": "2022-01-29T18:38:14.342540",
     "exception": false,
     "start_time": "2022-01-29T18:38:14.317346",
     "status": "completed"
    },
    "tags": []
   },
   "source": [
    "## 6.\n",
    "What combination of countries and varieties are most common? Create a `Series` whose index is a `MultiIndex`of `{country, variety}` pairs. For example, a pinot noir produced in the US should map to `{\"US\", \"Pinot Noir\"}`. Sort the values in the `Series` in descending order based on wine count."
   ]
  },
  {
   "cell_type": "code",
   "execution_count": 13,
   "id": "4280c163",
   "metadata": {
    "execution": {
     "iopub.execute_input": "2022-01-29T18:38:14.413424Z",
     "iopub.status.busy": "2022-01-29T18:38:14.412455Z",
     "iopub.status.idle": "2022-01-29T18:38:14.441030Z",
     "shell.execute_reply": "2022-01-29T18:38:14.441649Z",
     "shell.execute_reply.started": "2022-01-29T18:37:31.002686Z"
    },
    "papermill": {
     "duration": 0.073659,
     "end_time": "2022-01-29T18:38:14.441849",
     "exception": false,
     "start_time": "2022-01-29T18:38:14.368190",
     "status": "completed"
    },
    "tags": []
   },
   "outputs": [
    {
     "data": {
      "application/javascript": [
       "parent.postMessage({\"jupyterEvent\": \"custom.exercise_interaction\", \"data\": {\"outcomeType\": 1, \"valueTowardsCompletion\": 0.16666666666666666, \"interactionType\": 1, \"questionType\": 1, \"questionId\": \"6_GroupbyCountryVariety\", \"learnToolsVersion\": \"0.3.4\", \"failureMessage\": \"\", \"exceptionClass\": \"\", \"trace\": \"\"}}, \"*\")"
      ],
      "text/plain": [
       "<IPython.core.display.Javascript object>"
      ]
     },
     "metadata": {},
     "output_type": "display_data"
    },
    {
     "data": {
      "text/markdown": [
       "<span style=\"color:#33cc33\">Correct</span>"
      ],
      "text/plain": [
       "Correct"
      ]
     },
     "metadata": {},
     "output_type": "display_data"
    }
   ],
   "source": [
    "country_variety_counts = reviews.groupby(['country', 'variety']).size().sort_values(ascending=False)\n",
    "\n",
    "# Check your answer\n",
    "q6.check()"
   ]
  },
  {
   "cell_type": "code",
   "execution_count": 14,
   "id": "7a1062f3",
   "metadata": {
    "execution": {
     "iopub.execute_input": "2022-01-29T18:38:14.499458Z",
     "iopub.status.busy": "2022-01-29T18:38:14.498283Z",
     "iopub.status.idle": "2022-01-29T18:38:14.500777Z",
     "shell.execute_reply": "2022-01-29T18:38:14.501340Z",
     "shell.execute_reply.started": "2022-01-29T18:37:36.294122Z"
    },
    "papermill": {
     "duration": 0.033379,
     "end_time": "2022-01-29T18:38:14.501510",
     "exception": false,
     "start_time": "2022-01-29T18:38:14.468131",
     "status": "completed"
    },
    "tags": []
   },
   "outputs": [],
   "source": [
    "#q6.hint()\n",
    "#q6.solution()"
   ]
  },
  {
   "cell_type": "markdown",
   "id": "1d6639e3",
   "metadata": {
    "papermill": {
     "duration": 0.025751,
     "end_time": "2022-01-29T18:38:14.553446",
     "exception": false,
     "start_time": "2022-01-29T18:38:14.527695",
     "status": "completed"
    },
    "tags": []
   },
   "source": [
    "# Keep going\n",
    "\n",
    "Move on to the [**data types and missing data**](https://www.kaggle.com/residentmario/data-types-and-missing-values)."
   ]
  },
  {
   "cell_type": "markdown",
   "id": "a2f50547",
   "metadata": {
    "papermill": {
     "duration": 0.026325,
     "end_time": "2022-01-29T18:38:14.605835",
     "exception": false,
     "start_time": "2022-01-29T18:38:14.579510",
     "status": "completed"
    },
    "tags": []
   },
   "source": [
    "reviewer_mean_ratings = \n",
    "\n",
    "q5.check()---\n",
    "\n",
    "\n",
    "\n",
    "\n",
    "*Have questions or comments? Visit the [course discussion forum](https://www.kaggle.com/learn/pandas/discussion) to chat with other learners.*"
   ]
  }
 ],
 "metadata": {
  "kernelspec": {
   "display_name": "Python 3",
   "language": "python",
   "name": "python3"
  },
  "language_info": {
   "codemirror_mode": {
    "name": "ipython",
    "version": 3
   },
   "file_extension": ".py",
   "mimetype": "text/x-python",
   "name": "python",
   "nbconvert_exporter": "python",
   "pygments_lexer": "ipython3",
   "version": "3.7.12"
  },
  "papermill": {
   "default_parameters": {},
   "duration": 14.653905,
   "end_time": "2022-01-29T18:38:15.243083",
   "environment_variables": {},
   "exception": null,
   "input_path": "__notebook__.ipynb",
   "output_path": "__notebook__.ipynb",
   "parameters": {},
   "start_time": "2022-01-29T18:38:00.589178",
   "version": "2.3.3"
  }
 },
 "nbformat": 4,
 "nbformat_minor": 5
}
